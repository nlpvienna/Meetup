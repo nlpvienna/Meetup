{
 "cells": [
  {
   "cell_type": "markdown",
   "metadata": {
    "colab_type": "text",
    "id": "4fubPKMDruxS"
   },
   "source": [
    "# Setup\n",
    "\n",
    "*   Installation of third party libraries\n",
    "*   Imports\n",
    "*   Download of third-party resources for NLTK\n",
    "\n",
    "\n"
   ]
  },
  {
   "cell_type": "code",
   "execution_count": 0,
   "metadata": {
    "colab": {},
    "colab_type": "code",
    "id": "V1_Xer92syE9"
   },
   "outputs": [],
   "source": [
    "!pip install git+https://github.com/stefangindl/readin.git"
   ]
  },
  {
   "cell_type": "code",
   "execution_count": 0,
   "metadata": {
    "colab": {},
    "colab_type": "code",
    "id": "FpGg0WGfgtlH"
   },
   "outputs": [],
   "source": [
    "from collections import defaultdict\n",
    "from statistics import mean\n",
    "\n",
    "from nltk.tokenize import TweetTokenizer\n",
    "from textblob import TextBlob\n",
    "import nltk\n",
    "import pandas as pd\n",
    "\n",
    "import readin\n",
    "\n",
    "\n",
    "nltk.download('brown')\n",
    "nltk.download('punkt')"
   ]
  },
  {
   "cell_type": "markdown",
   "metadata": {
    "colab_type": "text",
    "id": "Fdjt1TiwwkqU"
   },
   "source": [
    "Setting the credentials - the real ones remain hidden."
   ]
  },
  {
   "cell_type": "code",
   "execution_count": 0,
   "metadata": {
    "colab": {},
    "colab_type": "code",
    "id": "bPsObWfqwssy"
   },
   "outputs": [],
   "source": [
    "creds = {'access_token': 'abc123',\n",
    "         'access_token_secret': 'abc123',\n",
    "         'consumer_key': 'abc123',\n",
    "         'consumer_secret': 'abc123',\n",
    "        }"
   ]
  },
  {
   "cell_type": "markdown",
   "metadata": {
    "colab_type": "text",
    "id": "370YGJJOr_8b"
   },
   "source": [
    "# Data Acquisition\n",
    "\n",
    "Crawling the Twitter timeline of the profile \"stefan_gindl\"."
   ]
  },
  {
   "cell_type": "code",
   "execution_count": 0,
   "metadata": {
    "colab": {},
    "colab_type": "code",
    "id": "Pi3ELrbch41H"
   },
   "outputs": [],
   "source": [
    "df = readin.from_twitter('stefan_gindl', **creds)"
   ]
  },
  {
   "cell_type": "markdown",
   "metadata": {
    "colab_type": "text",
    "id": "dnpVc5nRsGnt"
   },
   "source": [
    "# Analyze the Tweets\n",
    "\n",
    "\n",
    "1.   Extract mentions\n",
    "2.   Determine Tweet sentiment\n",
    "\n"
   ]
  },
  {
   "cell_type": "code",
   "execution_count": 0,
   "metadata": {
    "colab": {},
    "colab_type": "code",
    "id": "Xw-MFASPOhlj"
   },
   "outputs": [],
   "source": [
    "tokenizer = TweetTokenizer()\n",
    "\n",
    "def get_mentions(text):\n",
    "  return [token for token in tokenizer.tokenize(text) if token.startswith('@')]\n",
    "\n",
    "\n",
    "def get_sentiment(text):\n",
    "  return TextBlob(text).polarity\n",
    "\n",
    "df['sentiment'] = df['text'].apply(get_sentiment)\n",
    "df['mentions'] = df['text'].apply(get_mentions)"
   ]
  },
  {
   "cell_type": "markdown",
   "metadata": {
    "colab_type": "text",
    "id": "8wBUQmEZsd1J"
   },
   "source": [
    "Get the average sentiment of select text tokens:"
   ]
  },
  {
   "cell_type": "code",
   "execution_count": 0,
   "metadata": {
    "colab": {},
    "colab_type": "code",
    "id": "HuVpUgXnO4f6"
   },
   "outputs": [],
   "source": [
    "cnts = defaultdict(list)\n",
    "\n",
    "for tokens, sentiment in zip(df['mentions'], df['sentiment']):\n",
    "  for token in tokens:\n",
    "    cnts[token].append(sentiment)\n",
    "    \n",
    "cnts = {token: mean(sentiments) for token, sentiments in cnts.items()}"
   ]
  },
  {
   "cell_type": "markdown",
   "metadata": {
    "colab_type": "text",
    "id": "C2xByWwWsrXl"
   },
   "source": [
    "# Visualization"
   ]
  },
  {
   "cell_type": "code",
   "execution_count": 0,
   "metadata": {
    "colab": {},
    "colab_type": "code",
    "id": "XS56-s3xT0Qh"
   },
   "outputs": [],
   "source": [
    "ser_cnts = pd.Series(cnts)\n",
    "ser_cnts.sort_values().plot.bar()"
   ]
  },
  {
   "cell_type": "markdown",
   "metadata": {
    "colab_type": "text",
    "id": "Oyq7FfB--euB"
   },
   "source": [
    "# Make a Twitter-sentiment network"
   ]
  },
  {
   "cell_type": "code",
   "execution_count": 0,
   "metadata": {
    "colab": {},
    "colab_type": "code",
    "id": "mHBx5Rkk-9Le"
   },
   "outputs": [],
   "source": [
    "import networkx as nx"
   ]
  },
  {
   "cell_type": "code",
   "execution_count": 0,
   "metadata": {
    "colab": {},
    "colab_type": "code",
    "id": "mRo_JwFLyJ1y"
   },
   "outputs": [],
   "source": [
    "def get_sentiment_color(value):\n",
    "  if value < 0:\n",
    "    return 'red'\n",
    "  if value > 0:\n",
    "    return 'green'\n",
    "  return 'grey'\n",
    "\n",
    "G = nx.Graph()\n",
    "\n",
    "for token in cnts.keys():\n",
    "  G.add_edge('Stefan Gindl', token)\n",
    "  \n",
    "colors = [get_sentiment_color(sentiment) for _, sentiment in cnts.items()]\n",
    "nx.draw(G, edge_color=colors, with_labels=True)"
   ]
  },
  {
   "cell_type": "markdown",
   "metadata": {
    "colab_type": "text",
    "id": "3SKOk-RmTsmP"
   },
   "source": [
    "# Appendix\n",
    "\n",
    "Extract hashtags and noun phrases from Tweets.\n"
   ]
  },
  {
   "cell_type": "code",
   "execution_count": 0,
   "metadata": {
    "colab": {},
    "colab_type": "code",
    "id": "sBVIoo3DS9of"
   },
   "outputs": [],
   "source": [
    "def get_topics(text):\n",
    "  return [token for token in tokenizer.tokenize(text) if token.startswith('#')]\n",
    "\n",
    "def get_noun_phrases(text):\n",
    "  return TextBlob(text).noun_phrases\n",
    "\n",
    "\n",
    "df['topics'] = df['text'].apply(get_topics)\n",
    "df['noun_phrases'] = df['text'].apply(get_noun_phrases)"
   ]
  }
 ],
 "metadata": {
  "colab": {
   "name": "Simple Twitter Sentiment Monitor.ipynb",
   "provenance": [],
   "toc_visible": true,
   "version": "0.3.2"
  },
  "kernelspec": {
   "display_name": "Python 3",
   "language": "python",
   "name": "python3"
  },
  "language_info": {
   "codemirror_mode": {
    "name": "ipython",
    "version": 3
   },
   "file_extension": ".py",
   "mimetype": "text/x-python",
   "name": "python",
   "nbconvert_exporter": "python",
   "pygments_lexer": "ipython3",
   "version": "3.6.8"
  }
 },
 "nbformat": 4,
 "nbformat_minor": 1
}
