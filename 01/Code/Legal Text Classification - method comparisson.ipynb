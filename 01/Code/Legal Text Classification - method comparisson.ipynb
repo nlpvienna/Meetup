{
 "cells": [
  {
   "cell_type": "markdown",
   "metadata": {},
   "source": [
    "# Method comparisson for classifying legal texts"
   ]
  },
  {
   "cell_type": "markdown",
   "metadata": {},
   "source": [
    "Read more here:\n",
    "https://github.com/kk7nc/Text_Classification#comparison-text-classification-algorithms"
   ]
  },
  {
   "cell_type": "code",
   "execution_count": 1,
   "metadata": {},
   "outputs": [],
   "source": [
    "from sklearn.neighbors.nearest_centroid import NearestCentroid\n",
    "from sklearn.pipeline import Pipeline\n",
    "from sklearn import metrics\n",
    "from sklearn.feature_extraction.text import CountVectorizer\n",
    "from sklearn.feature_extraction.text import TfidfTransformer"
   ]
  },
  {
   "cell_type": "code",
   "execution_count": 2,
   "metadata": {},
   "outputs": [],
   "source": [
    "import pandas as pd\n",
    "import numpy as np"
   ]
  },
  {
   "cell_type": "markdown",
   "metadata": {},
   "source": [
    "## The sample dataset can be downloaded from: \n",
    "https://github.com/nlpvienna/Meetup/tree/master/01"
   ]
  },
  {
   "cell_type": "code",
   "execution_count": 3,
   "metadata": {},
   "outputs": [],
   "source": [
    "df = pd.read_csv('sample_dataset.csv', sep='\\t', encoding='utf-8')"
   ]
  },
  {
   "cell_type": "code",
   "execution_count": 4,
   "metadata": {},
   "outputs": [
    {
     "data": {
      "text/html": [
       "<div>\n",
       "<style scoped>\n",
       "    .dataframe tbody tr th:only-of-type {\n",
       "        vertical-align: middle;\n",
       "    }\n",
       "\n",
       "    .dataframe tbody tr th {\n",
       "        vertical-align: top;\n",
       "    }\n",
       "\n",
       "    .dataframe thead th {\n",
       "        text-align: right;\n",
       "    }\n",
       "</style>\n",
       "<table border=\"1\" class=\"dataframe\">\n",
       "  <thead>\n",
       "    <tr style=\"text-align: right;\">\n",
       "      <th></th>\n",
       "      <th>Class</th>\n",
       "      <th>Text</th>\n",
       "    </tr>\n",
       "  </thead>\n",
       "  <tbody>\n",
       "    <tr>\n",
       "      <th>0</th>\n",
       "      <td>1</td>\n",
       "      <td>Aufgrund dieser Rechtsvorschriften ist von zwe...</td>\n",
       "    </tr>\n",
       "    <tr>\n",
       "      <th>1</th>\n",
       "      <td>0</td>\n",
       "      <td>Der Bodenaufbau in der Pflanzwanne setzte sich...</td>\n",
       "    </tr>\n",
       "    <tr>\n",
       "      <th>2</th>\n",
       "      <td>1</td>\n",
       "      <td>Maximal die Hälfte der Fertigstellungskosten z...</td>\n",
       "    </tr>\n",
       "    <tr>\n",
       "      <th>3</th>\n",
       "      <td>1</td>\n",
       "      <td>Alles was zum Thema Bauwerksbegrünung angebote...</td>\n",
       "    </tr>\n",
       "    <tr>\n",
       "      <th>4</th>\n",
       "      <td>1</td>\n",
       "      <td>Retentionsdächer werden in Deutschland immer h...</td>\n",
       "    </tr>\n",
       "    <tr>\n",
       "      <th>5</th>\n",
       "      <td>1</td>\n",
       "      <td>Dabei steht ihnen eine große Bandbreite an Mög...</td>\n",
       "    </tr>\n",
       "    <tr>\n",
       "      <th>6</th>\n",
       "      <td>0</td>\n",
       "      <td>BILDQUELLE: OPTIGRÜN \\t Der gestalterischen Vi...</td>\n",
       "    </tr>\n",
       "    <tr>\n",
       "      <th>7</th>\n",
       "      <td>1</td>\n",
       "      <td>Abb. \\t 3: Verbindliche Festlegung von Dachbeg...</td>\n",
       "    </tr>\n",
       "    <tr>\n",
       "      <th>8</th>\n",
       "      <td>0</td>\n",
       "      <td>Wolfgang Dickhaut und Dipl.-Geoökol. \\t Michae...</td>\n",
       "    </tr>\n",
       "    <tr>\n",
       "      <th>9</th>\n",
       "      <td>1</td>\n",
       "      <td>Eine völlig neue Regelung zugunsten der Bauunt...</td>\n",
       "    </tr>\n",
       "    <tr>\n",
       "      <th>10</th>\n",
       "      <td>0</td>\n",
       "      <td>14 GebäudeGrün 3/2018 \\t Förderung Gebäudegrün...</td>\n",
       "    </tr>\n",
       "    <tr>\n",
       "      <th>11</th>\n",
       "      <td>1</td>\n",
       "      <td>Ziel ist es, den ursprünglichen Zustand des Na...</td>\n",
       "    </tr>\n",
       "    <tr>\n",
       "      <th>12</th>\n",
       "      <td>0</td>\n",
       "      <td>Mit dem Neubau des Bundesministerium für Bildu...</td>\n",
       "    </tr>\n",
       "    <tr>\n",
       "      <th>13</th>\n",
       "      <td>1</td>\n",
       "      <td>·neue Gebäude · Sozialbaueigentümer · Der Stad...</td>\n",
       "    </tr>\n",
       "    <tr>\n",
       "      <th>14</th>\n",
       "      <td>1</td>\n",
       "      <td>Wirkungsbereich: · flächendeckend \\t Gesetzlic...</td>\n",
       "    </tr>\n",
       "    <tr>\n",
       "      <th>15</th>\n",
       "      <td>0</td>\n",
       "      <td>Soll der Pflegeaufwand weiterhin gering gehalt...</td>\n",
       "    </tr>\n",
       "    <tr>\n",
       "      <th>16</th>\n",
       "      <td>1</td>\n",
       "      <td>Gebäudedaten Als zweiter Datensatz für die Inv...</td>\n",
       "    </tr>\n",
       "    <tr>\n",
       "      <th>17</th>\n",
       "      <td>0</td>\n",
       "      <td>2 \\t Alle Rechte vorbehalten. \\t Nachdruck, au...</td>\n",
       "    </tr>\n",
       "    <tr>\n",
       "      <th>18</th>\n",
       "      <td>0</td>\n",
       "      <td>und Konturdeckung (canopy-coverage) (KNAPP, 19...</td>\n",
       "    </tr>\n",
       "    <tr>\n",
       "      <th>19</th>\n",
       "      <td>0</td>\n",
       "      <td>· Angaben zum anvisierten Regenwasserrückhalt ...</td>\n",
       "    </tr>\n",
       "    <tr>\n",
       "      <th>20</th>\n",
       "      <td>1</td>\n",
       "      <td>Deshalb wurde eine Dachfläche von knapp 3.800 ...</td>\n",
       "    </tr>\n",
       "    <tr>\n",
       "      <th>21</th>\n",
       "      <td>1</td>\n",
       "      <td>· Eine Abstimmung mit den ökologischen Zielen ...</td>\n",
       "    </tr>\n",
       "    <tr>\n",
       "      <th>22</th>\n",
       "      <td>0</td>\n",
       "      <td>Externe Sensoren (bis zu 128 Ein- und Ausgänge...</td>\n",
       "    </tr>\n",
       "    <tr>\n",
       "      <th>23</th>\n",
       "      <td>1</td>\n",
       "      <td>Gibt es in Ihrer Kommune Bebauungspläne, die F...</td>\n",
       "    </tr>\n",
       "    <tr>\n",
       "      <th>24</th>\n",
       "      <td>0</td>\n",
       "      <td>Err:509 \\t - an den senkrechten Bereichen der ...</td>\n",
       "    </tr>\n",
       "    <tr>\n",
       "      <th>25</th>\n",
       "      <td>1</td>\n",
       "      <td>September 2017 offiziell in Kraft gesetzt wurd...</td>\n",
       "    </tr>\n",
       "    <tr>\n",
       "      <th>26</th>\n",
       "      <td>0</td>\n",
       "      <td>FBB-Präsident Dr. Gunter Mann (links) und DDV-...</td>\n",
       "    </tr>\n",
       "    <tr>\n",
       "      <th>27</th>\n",
       "      <td>0</td>\n",
       "      <td>Mechanische Schäden durch das Versagen von Wuc...</td>\n",
       "    </tr>\n",
       "    <tr>\n",
       "      <th>28</th>\n",
       "      <td>0</td>\n",
       "      <td>Michael Aebi \\t Der Raumbegrüner Michel Aebi h...</td>\n",
       "    </tr>\n",
       "    <tr>\n",
       "      <th>29</th>\n",
       "      <td>1</td>\n",
       "      <td>2 Satz 2 BNatSchG). \\t · Ersetzt ist eine Beei...</td>\n",
       "    </tr>\n",
       "    <tr>\n",
       "      <th>30</th>\n",
       "      <td>0</td>\n",
       "      <td>räumlicher Wirkungsbereich \\t Instrumente der ...</td>\n",
       "    </tr>\n",
       "    <tr>\n",
       "      <th>31</th>\n",
       "      <td>0</td>\n",
       "      <td>2. \\t Satzungen \\t Abb.</td>\n",
       "    </tr>\n",
       "    <tr>\n",
       "      <th>32</th>\n",
       "      <td>1</td>\n",
       "      <td>Teil A ­ Dachbegrünung: · Gibt es in Ihrer Kom...</td>\n",
       "    </tr>\n",
       "    <tr>\n",
       "      <th>33</th>\n",
       "      <td>0</td>\n",
       "      <td>sundheits- und umweltgerechte \\t Baustoffe ein...</td>\n",
       "    </tr>\n",
       "    <tr>\n",
       "      <th>34</th>\n",
       "      <td>1</td>\n",
       "      <td>Aus diesem Grund setzt der Verband Region Stut...</td>\n",
       "    </tr>\n",
       "    <tr>\n",
       "      <th>35</th>\n",
       "      <td>0</td>\n",
       "      <td>Alle Rechte vorbehalten. \\t Nachdruck, auch in...</td>\n",
       "    </tr>\n",
       "    <tr>\n",
       "      <th>36</th>\n",
       "      <td>0</td>\n",
       "      <td>Hierzu wurde eine als Parkband ausgestaltete R...</td>\n",
       "    </tr>\n",
       "    <tr>\n",
       "      <th>37</th>\n",
       "      <td>0</td>\n",
       "      <td>Jahrhundert zum positiven verändern. \\t Aufgru...</td>\n",
       "    </tr>\n",
       "    <tr>\n",
       "      <th>38</th>\n",
       "      <td>0</td>\n",
       "      <td>munale Gründachförderung als Maßnahme zur Klim...</td>\n",
       "    </tr>\n",
       "    <tr>\n",
       "      <th>39</th>\n",
       "      <td>1</td>\n",
       "      <td>Beide Parteien müssen den Zustand der Baustell...</td>\n",
       "    </tr>\n",
       "    <tr>\n",
       "      <th>40</th>\n",
       "      <td>1</td>\n",
       "      <td>Für die planerische Bewältigung bedeutet diese...</td>\n",
       "    </tr>\n",
       "    <tr>\n",
       "      <th>41</th>\n",
       "      <td>0</td>\n",
       "      <td>Bei größeren Projekten kann der Wasserdruck mi...</td>\n",
       "    </tr>\n",
       "    <tr>\n",
       "      <th>42</th>\n",
       "      <td>0</td>\n",
       "      <td>2: Übersicht der Pflanzenverluste 73 \\t 4.1.3 ...</td>\n",
       "    </tr>\n",
       "    <tr>\n",
       "      <th>43</th>\n",
       "      <td>1</td>\n",
       "      <td>4.3 Absturzsicherung während der Ausführung Si...</td>\n",
       "    </tr>\n",
       "    <tr>\n",
       "      <th>44</th>\n",
       "      <td>1</td>\n",
       "      <td>Seite 22) übernommen werden. \\t EINGRIFFSREGEL...</td>\n",
       "    </tr>\n",
       "    <tr>\n",
       "      <th>45</th>\n",
       "      <td>1</td>\n",
       "      <td>o.) \\t · Pflanzkübel, Kiesschüttungen, Terrass...</td>\n",
       "    </tr>\n",
       "    <tr>\n",
       "      <th>46</th>\n",
       "      <td>0</td>\n",
       "      <td>Das weltweit erste begrünte Hochhaus, den Comm...</td>\n",
       "    </tr>\n",
       "    <tr>\n",
       "      <th>47</th>\n",
       "      <td>1</td>\n",
       "      <td>Absturzsicherung ist Pflicht, doch in welcher ...</td>\n",
       "    </tr>\n",
       "    <tr>\n",
       "      <th>48</th>\n",
       "      <td>1</td>\n",
       "      <td>Als ,,Eingriffe\" im Sinne des § 14 Abs. \\t 1 B...</td>\n",
       "    </tr>\n",
       "    <tr>\n",
       "      <th>49</th>\n",
       "      <td>0</td>\n",
       "      <td>Live-Blick auf die Leistungen, die Thema Bauwe...</td>\n",
       "    </tr>\n",
       "  </tbody>\n",
       "</table>\n",
       "</div>"
      ],
      "text/plain": [
       "    Class                                               Text\n",
       "0       1  Aufgrund dieser Rechtsvorschriften ist von zwe...\n",
       "1       0  Der Bodenaufbau in der Pflanzwanne setzte sich...\n",
       "2       1  Maximal die Hälfte der Fertigstellungskosten z...\n",
       "3       1  Alles was zum Thema Bauwerksbegrünung angebote...\n",
       "4       1  Retentionsdächer werden in Deutschland immer h...\n",
       "5       1  Dabei steht ihnen eine große Bandbreite an Mög...\n",
       "6       0  BILDQUELLE: OPTIGRÜN \\t Der gestalterischen Vi...\n",
       "7       1  Abb. \\t 3: Verbindliche Festlegung von Dachbeg...\n",
       "8       0  Wolfgang Dickhaut und Dipl.-Geoökol. \\t Michae...\n",
       "9       1  Eine völlig neue Regelung zugunsten der Bauunt...\n",
       "10      0  14 GebäudeGrün 3/2018 \\t Förderung Gebäudegrün...\n",
       "11      1  Ziel ist es, den ursprünglichen Zustand des Na...\n",
       "12      0  Mit dem Neubau des Bundesministerium für Bildu...\n",
       "13      1  ·neue Gebäude · Sozialbaueigentümer · Der Stad...\n",
       "14      1  Wirkungsbereich: · flächendeckend \\t Gesetzlic...\n",
       "15      0  Soll der Pflegeaufwand weiterhin gering gehalt...\n",
       "16      1  Gebäudedaten Als zweiter Datensatz für die Inv...\n",
       "17      0  2 \\t Alle Rechte vorbehalten. \\t Nachdruck, au...\n",
       "18      0  und Konturdeckung (canopy-coverage) (KNAPP, 19...\n",
       "19      0  · Angaben zum anvisierten Regenwasserrückhalt ...\n",
       "20      1  Deshalb wurde eine Dachfläche von knapp 3.800 ...\n",
       "21      1  · Eine Abstimmung mit den ökologischen Zielen ...\n",
       "22      0  Externe Sensoren (bis zu 128 Ein- und Ausgänge...\n",
       "23      1  Gibt es in Ihrer Kommune Bebauungspläne, die F...\n",
       "24      0  Err:509 \\t - an den senkrechten Bereichen der ...\n",
       "25      1  September 2017 offiziell in Kraft gesetzt wurd...\n",
       "26      0  FBB-Präsident Dr. Gunter Mann (links) und DDV-...\n",
       "27      0  Mechanische Schäden durch das Versagen von Wuc...\n",
       "28      0  Michael Aebi \\t Der Raumbegrüner Michel Aebi h...\n",
       "29      1  2 Satz 2 BNatSchG). \\t · Ersetzt ist eine Beei...\n",
       "30      0  räumlicher Wirkungsbereich \\t Instrumente der ...\n",
       "31      0                            2. \\t Satzungen \\t Abb.\n",
       "32      1  Teil A ­ Dachbegrünung: · Gibt es in Ihrer Kom...\n",
       "33      0  sundheits- und umweltgerechte \\t Baustoffe ein...\n",
       "34      1  Aus diesem Grund setzt der Verband Region Stut...\n",
       "35      0  Alle Rechte vorbehalten. \\t Nachdruck, auch in...\n",
       "36      0  Hierzu wurde eine als Parkband ausgestaltete R...\n",
       "37      0  Jahrhundert zum positiven verändern. \\t Aufgru...\n",
       "38      0  munale Gründachförderung als Maßnahme zur Klim...\n",
       "39      1  Beide Parteien müssen den Zustand der Baustell...\n",
       "40      1  Für die planerische Bewältigung bedeutet diese...\n",
       "41      0  Bei größeren Projekten kann der Wasserdruck mi...\n",
       "42      0  2: Übersicht der Pflanzenverluste 73 \\t 4.1.3 ...\n",
       "43      1  4.3 Absturzsicherung während der Ausführung Si...\n",
       "44      1  Seite 22) übernommen werden. \\t EINGRIFFSREGEL...\n",
       "45      1  o.) \\t · Pflanzkübel, Kiesschüttungen, Terrass...\n",
       "46      0  Das weltweit erste begrünte Hochhaus, den Comm...\n",
       "47      1  Absturzsicherung ist Pflicht, doch in welcher ...\n",
       "48      1  Als ,,Eingriffe\" im Sinne des § 14 Abs. \\t 1 B...\n",
       "49      0  Live-Blick auf die Leistungen, die Thema Bauwe..."
      ]
     },
     "execution_count": 4,
     "metadata": {},
     "output_type": "execute_result"
    }
   ],
   "source": [
    "df"
   ]
  },
  {
   "cell_type": "code",
   "execution_count": 5,
   "metadata": {},
   "outputs": [
    {
     "data": {
      "text/html": [
       "<div>\n",
       "<style scoped>\n",
       "    .dataframe tbody tr th:only-of-type {\n",
       "        vertical-align: middle;\n",
       "    }\n",
       "\n",
       "    .dataframe tbody tr th {\n",
       "        vertical-align: top;\n",
       "    }\n",
       "\n",
       "    .dataframe thead th {\n",
       "        text-align: right;\n",
       "    }\n",
       "</style>\n",
       "<table border=\"1\" class=\"dataframe\">\n",
       "  <thead>\n",
       "    <tr style=\"text-align: right;\">\n",
       "      <th></th>\n",
       "      <th>Class</th>\n",
       "      <th>Text</th>\n",
       "    </tr>\n",
       "  </thead>\n",
       "  <tbody>\n",
       "    <tr>\n",
       "      <th>37</th>\n",
       "      <td>0</td>\n",
       "      <td>Jahrhundert zum positiven verändern. \\t Aufgru...</td>\n",
       "    </tr>\n",
       "    <tr>\n",
       "      <th>43</th>\n",
       "      <td>1</td>\n",
       "      <td>4.3 Absturzsicherung während der Ausführung Si...</td>\n",
       "    </tr>\n",
       "    <tr>\n",
       "      <th>12</th>\n",
       "      <td>0</td>\n",
       "      <td>Mit dem Neubau des Bundesministerium für Bildu...</td>\n",
       "    </tr>\n",
       "    <tr>\n",
       "      <th>8</th>\n",
       "      <td>0</td>\n",
       "      <td>Wolfgang Dickhaut und Dipl.-Geoökol. \\t Michae...</td>\n",
       "    </tr>\n",
       "    <tr>\n",
       "      <th>9</th>\n",
       "      <td>1</td>\n",
       "      <td>Eine völlig neue Regelung zugunsten der Bauunt...</td>\n",
       "    </tr>\n",
       "    <tr>\n",
       "      <th>11</th>\n",
       "      <td>1</td>\n",
       "      <td>Ziel ist es, den ursprünglichen Zustand des Na...</td>\n",
       "    </tr>\n",
       "    <tr>\n",
       "      <th>5</th>\n",
       "      <td>1</td>\n",
       "      <td>Dabei steht ihnen eine große Bandbreite an Mög...</td>\n",
       "    </tr>\n",
       "    <tr>\n",
       "      <th>15</th>\n",
       "      <td>0</td>\n",
       "      <td>Soll der Pflegeaufwand weiterhin gering gehalt...</td>\n",
       "    </tr>\n",
       "    <tr>\n",
       "      <th>0</th>\n",
       "      <td>1</td>\n",
       "      <td>Aufgrund dieser Rechtsvorschriften ist von zwe...</td>\n",
       "    </tr>\n",
       "    <tr>\n",
       "      <th>16</th>\n",
       "      <td>1</td>\n",
       "      <td>Gebäudedaten Als zweiter Datensatz für die Inv...</td>\n",
       "    </tr>\n",
       "    <tr>\n",
       "      <th>1</th>\n",
       "      <td>0</td>\n",
       "      <td>Der Bodenaufbau in der Pflanzwanne setzte sich...</td>\n",
       "    </tr>\n",
       "    <tr>\n",
       "      <th>12</th>\n",
       "      <td>0</td>\n",
       "      <td>Mit dem Neubau des Bundesministerium für Bildu...</td>\n",
       "    </tr>\n",
       "    <tr>\n",
       "      <th>7</th>\n",
       "      <td>1</td>\n",
       "      <td>Abb. \\t 3: Verbindliche Festlegung von Dachbeg...</td>\n",
       "    </tr>\n",
       "    <tr>\n",
       "      <th>45</th>\n",
       "      <td>1</td>\n",
       "      <td>o.) \\t · Pflanzkübel, Kiesschüttungen, Terrass...</td>\n",
       "    </tr>\n",
       "    <tr>\n",
       "      <th>6</th>\n",
       "      <td>0</td>\n",
       "      <td>BILDQUELLE: OPTIGRÜN \\t Der gestalterischen Vi...</td>\n",
       "    </tr>\n",
       "    <tr>\n",
       "      <th>25</th>\n",
       "      <td>1</td>\n",
       "      <td>September 2017 offiziell in Kraft gesetzt wurd...</td>\n",
       "    </tr>\n",
       "    <tr>\n",
       "      <th>20</th>\n",
       "      <td>1</td>\n",
       "      <td>Deshalb wurde eine Dachfläche von knapp 3.800 ...</td>\n",
       "    </tr>\n",
       "    <tr>\n",
       "      <th>37</th>\n",
       "      <td>0</td>\n",
       "      <td>Jahrhundert zum positiven verändern. \\t Aufgru...</td>\n",
       "    </tr>\n",
       "    <tr>\n",
       "      <th>18</th>\n",
       "      <td>0</td>\n",
       "      <td>und Konturdeckung (canopy-coverage) (KNAPP, 19...</td>\n",
       "    </tr>\n",
       "    <tr>\n",
       "      <th>20</th>\n",
       "      <td>1</td>\n",
       "      <td>Deshalb wurde eine Dachfläche von knapp 3.800 ...</td>\n",
       "    </tr>\n",
       "    <tr>\n",
       "      <th>11</th>\n",
       "      <td>1</td>\n",
       "      <td>Ziel ist es, den ursprünglichen Zustand des Na...</td>\n",
       "    </tr>\n",
       "    <tr>\n",
       "      <th>42</th>\n",
       "      <td>0</td>\n",
       "      <td>2: Übersicht der Pflanzenverluste 73 \\t 4.1.3 ...</td>\n",
       "    </tr>\n",
       "    <tr>\n",
       "      <th>28</th>\n",
       "      <td>0</td>\n",
       "      <td>Michael Aebi \\t Der Raumbegrüner Michel Aebi h...</td>\n",
       "    </tr>\n",
       "    <tr>\n",
       "      <th>29</th>\n",
       "      <td>1</td>\n",
       "      <td>2 Satz 2 BNatSchG). \\t · Ersetzt ist eine Beei...</td>\n",
       "    </tr>\n",
       "    <tr>\n",
       "      <th>14</th>\n",
       "      <td>1</td>\n",
       "      <td>Wirkungsbereich: · flächendeckend \\t Gesetzlic...</td>\n",
       "    </tr>\n",
       "    <tr>\n",
       "      <th>4</th>\n",
       "      <td>1</td>\n",
       "      <td>Retentionsdächer werden in Deutschland immer h...</td>\n",
       "    </tr>\n",
       "    <tr>\n",
       "      <th>23</th>\n",
       "      <td>1</td>\n",
       "      <td>Gibt es in Ihrer Kommune Bebauungspläne, die F...</td>\n",
       "    </tr>\n",
       "    <tr>\n",
       "      <th>23</th>\n",
       "      <td>1</td>\n",
       "      <td>Gibt es in Ihrer Kommune Bebauungspläne, die F...</td>\n",
       "    </tr>\n",
       "    <tr>\n",
       "      <th>41</th>\n",
       "      <td>0</td>\n",
       "      <td>Bei größeren Projekten kann der Wasserdruck mi...</td>\n",
       "    </tr>\n",
       "    <tr>\n",
       "      <th>49</th>\n",
       "      <td>0</td>\n",
       "      <td>Live-Blick auf die Leistungen, die Thema Bauwe...</td>\n",
       "    </tr>\n",
       "    <tr>\n",
       "      <th>30</th>\n",
       "      <td>0</td>\n",
       "      <td>räumlicher Wirkungsbereich \\t Instrumente der ...</td>\n",
       "    </tr>\n",
       "    <tr>\n",
       "      <th>32</th>\n",
       "      <td>1</td>\n",
       "      <td>Teil A ­ Dachbegrünung: · Gibt es in Ihrer Kom...</td>\n",
       "    </tr>\n",
       "    <tr>\n",
       "      <th>22</th>\n",
       "      <td>0</td>\n",
       "      <td>Externe Sensoren (bis zu 128 Ein- und Ausgänge...</td>\n",
       "    </tr>\n",
       "    <tr>\n",
       "      <th>13</th>\n",
       "      <td>1</td>\n",
       "      <td>·neue Gebäude · Sozialbaueigentümer · Der Stad...</td>\n",
       "    </tr>\n",
       "    <tr>\n",
       "      <th>41</th>\n",
       "      <td>0</td>\n",
       "      <td>Bei größeren Projekten kann der Wasserdruck mi...</td>\n",
       "    </tr>\n",
       "    <tr>\n",
       "      <th>9</th>\n",
       "      <td>1</td>\n",
       "      <td>Eine völlig neue Regelung zugunsten der Bauunt...</td>\n",
       "    </tr>\n",
       "    <tr>\n",
       "      <th>7</th>\n",
       "      <td>1</td>\n",
       "      <td>Abb. \\t 3: Verbindliche Festlegung von Dachbeg...</td>\n",
       "    </tr>\n",
       "    <tr>\n",
       "      <th>22</th>\n",
       "      <td>0</td>\n",
       "      <td>Externe Sensoren (bis zu 128 Ein- und Ausgänge...</td>\n",
       "    </tr>\n",
       "    <tr>\n",
       "      <th>1</th>\n",
       "      <td>0</td>\n",
       "      <td>Der Bodenaufbau in der Pflanzwanne setzte sich...</td>\n",
       "    </tr>\n",
       "    <tr>\n",
       "      <th>0</th>\n",
       "      <td>1</td>\n",
       "      <td>Aufgrund dieser Rechtsvorschriften ist von zwe...</td>\n",
       "    </tr>\n",
       "  </tbody>\n",
       "</table>\n",
       "</div>"
      ],
      "text/plain": [
       "    Class                                               Text\n",
       "37      0  Jahrhundert zum positiven verändern. \\t Aufgru...\n",
       "43      1  4.3 Absturzsicherung während der Ausführung Si...\n",
       "12      0  Mit dem Neubau des Bundesministerium für Bildu...\n",
       "8       0  Wolfgang Dickhaut und Dipl.-Geoökol. \\t Michae...\n",
       "9       1  Eine völlig neue Regelung zugunsten der Bauunt...\n",
       "11      1  Ziel ist es, den ursprünglichen Zustand des Na...\n",
       "5       1  Dabei steht ihnen eine große Bandbreite an Mög...\n",
       "15      0  Soll der Pflegeaufwand weiterhin gering gehalt...\n",
       "0       1  Aufgrund dieser Rechtsvorschriften ist von zwe...\n",
       "16      1  Gebäudedaten Als zweiter Datensatz für die Inv...\n",
       "1       0  Der Bodenaufbau in der Pflanzwanne setzte sich...\n",
       "12      0  Mit dem Neubau des Bundesministerium für Bildu...\n",
       "7       1  Abb. \\t 3: Verbindliche Festlegung von Dachbeg...\n",
       "45      1  o.) \\t · Pflanzkübel, Kiesschüttungen, Terrass...\n",
       "6       0  BILDQUELLE: OPTIGRÜN \\t Der gestalterischen Vi...\n",
       "25      1  September 2017 offiziell in Kraft gesetzt wurd...\n",
       "20      1  Deshalb wurde eine Dachfläche von knapp 3.800 ...\n",
       "37      0  Jahrhundert zum positiven verändern. \\t Aufgru...\n",
       "18      0  und Konturdeckung (canopy-coverage) (KNAPP, 19...\n",
       "20      1  Deshalb wurde eine Dachfläche von knapp 3.800 ...\n",
       "11      1  Ziel ist es, den ursprünglichen Zustand des Na...\n",
       "42      0  2: Übersicht der Pflanzenverluste 73 \\t 4.1.3 ...\n",
       "28      0  Michael Aebi \\t Der Raumbegrüner Michel Aebi h...\n",
       "29      1  2 Satz 2 BNatSchG). \\t · Ersetzt ist eine Beei...\n",
       "14      1  Wirkungsbereich: · flächendeckend \\t Gesetzlic...\n",
       "4       1  Retentionsdächer werden in Deutschland immer h...\n",
       "23      1  Gibt es in Ihrer Kommune Bebauungspläne, die F...\n",
       "23      1  Gibt es in Ihrer Kommune Bebauungspläne, die F...\n",
       "41      0  Bei größeren Projekten kann der Wasserdruck mi...\n",
       "49      0  Live-Blick auf die Leistungen, die Thema Bauwe...\n",
       "30      0  räumlicher Wirkungsbereich \\t Instrumente der ...\n",
       "32      1  Teil A ­ Dachbegrünung: · Gibt es in Ihrer Kom...\n",
       "22      0  Externe Sensoren (bis zu 128 Ein- und Ausgänge...\n",
       "13      1  ·neue Gebäude · Sozialbaueigentümer · Der Stad...\n",
       "41      0  Bei größeren Projekten kann der Wasserdruck mi...\n",
       "9       1  Eine völlig neue Regelung zugunsten der Bauunt...\n",
       "7       1  Abb. \\t 3: Verbindliche Festlegung von Dachbeg...\n",
       "22      0  Externe Sensoren (bis zu 128 Ein- und Ausgänge...\n",
       "1       0  Der Bodenaufbau in der Pflanzwanne setzte sich...\n",
       "0       1  Aufgrund dieser Rechtsvorschriften ist von zwe..."
      ]
     },
     "execution_count": 5,
     "metadata": {},
     "output_type": "execute_result"
    }
   ],
   "source": [
    "# One way to random sample the data\n",
    "df.sample(frac=0.8, replace=True, random_state=1)"
   ]
  },
  {
   "cell_type": "code",
   "execution_count": 6,
   "metadata": {},
   "outputs": [],
   "source": [
    "# But we use this way:\n",
    "\n",
    "msk = np.random.rand(len(df)) < 0.8\n",
    "train = df[msk]\n",
    "test = df[~msk]"
   ]
  },
  {
   "cell_type": "code",
   "execution_count": 7,
   "metadata": {},
   "outputs": [],
   "source": [
    "X_train = train['Text']\n",
    "X_test = test['Text']\n",
    "y_train = train['Class']\n",
    "y_test = test['Class']"
   ]
  },
  {
   "cell_type": "code",
   "execution_count": 8,
   "metadata": {},
   "outputs": [],
   "source": [
    "def fit(text_clf):\n",
    "    text_clf.fit(X_train, y_train)\n",
    "    predicted = text_clf.predict(X_test)\n",
    "    print(metrics.classification_report(y_test, predicted))"
   ]
  },
  {
   "cell_type": "markdown",
   "metadata": {},
   "source": [
    "# Using Rocchio"
   ]
  },
  {
   "cell_type": "code",
   "execution_count": 9,
   "metadata": {},
   "outputs": [],
   "source": [
    "rocchio = Pipeline([('vect', CountVectorizer()),\n",
    "                     ('tfidf', TfidfTransformer()),\n",
    "                     ('clf', NearestCentroid()),\n",
    "                     ])\n"
   ]
  },
  {
   "cell_type": "code",
   "execution_count": 10,
   "metadata": {},
   "outputs": [
    {
     "name": "stdout",
     "output_type": "stream",
     "text": [
      "              precision    recall  f1-score   support\n",
      "\n",
      "           0       0.67      0.33      0.44         6\n",
      "           1       0.43      0.75      0.55         4\n",
      "\n",
      "   micro avg       0.50      0.50      0.50        10\n",
      "   macro avg       0.55      0.54      0.49        10\n",
      "weighted avg       0.57      0.50      0.48        10\n",
      "\n"
     ]
    }
   ],
   "source": [
    "fit(rocchio)"
   ]
  },
  {
   "cell_type": "markdown",
   "metadata": {},
   "source": [
    "# Using Boosting"
   ]
  },
  {
   "cell_type": "code",
   "execution_count": 11,
   "metadata": {},
   "outputs": [],
   "source": [
    "from sklearn.ensemble import GradientBoostingClassifier"
   ]
  },
  {
   "cell_type": "code",
   "execution_count": 12,
   "metadata": {},
   "outputs": [
    {
     "name": "stdout",
     "output_type": "stream",
     "text": [
      "              precision    recall  f1-score   support\n",
      "\n",
      "           0       0.67      0.67      0.67         6\n",
      "           1       0.50      0.50      0.50         4\n",
      "\n",
      "   micro avg       0.60      0.60      0.60        10\n",
      "   macro avg       0.58      0.58      0.58        10\n",
      "weighted avg       0.60      0.60      0.60        10\n",
      "\n"
     ]
    }
   ],
   "source": [
    "boosting = Pipeline([('vect', CountVectorizer()),\n",
    "                     ('tfidf', TfidfTransformer()),\n",
    "                     ('clf', GradientBoostingClassifier(n_estimators=100)),\n",
    "                     ])\n",
    "\n",
    "fit(boosting)"
   ]
  },
  {
   "cell_type": "markdown",
   "metadata": {},
   "source": [
    "# Using Bagging"
   ]
  },
  {
   "cell_type": "code",
   "execution_count": 13,
   "metadata": {},
   "outputs": [],
   "source": [
    "from sklearn.ensemble import BaggingClassifier\n",
    "from sklearn.neighbors import KNeighborsClassifier"
   ]
  },
  {
   "cell_type": "code",
   "execution_count": 14,
   "metadata": {},
   "outputs": [
    {
     "name": "stdout",
     "output_type": "stream",
     "text": [
      "              precision    recall  f1-score   support\n",
      "\n",
      "           0       0.60      0.50      0.55         6\n",
      "           1       0.40      0.50      0.44         4\n",
      "\n",
      "   micro avg       0.50      0.50      0.50        10\n",
      "   macro avg       0.50      0.50      0.49        10\n",
      "weighted avg       0.52      0.50      0.51        10\n",
      "\n"
     ]
    }
   ],
   "source": [
    "bagging = Pipeline([('vect', CountVectorizer()),\n",
    "                     ('tfidf', TfidfTransformer()),\n",
    "                     ('clf', BaggingClassifier(KNeighborsClassifier())),\n",
    "                     ])\n",
    "fit(bagging)"
   ]
  },
  {
   "cell_type": "markdown",
   "metadata": {},
   "source": [
    "# Naive Bayes"
   ]
  },
  {
   "cell_type": "code",
   "execution_count": 15,
   "metadata": {},
   "outputs": [],
   "source": [
    "from sklearn.naive_bayes import MultinomialNB"
   ]
  },
  {
   "cell_type": "code",
   "execution_count": 16,
   "metadata": {},
   "outputs": [
    {
     "name": "stdout",
     "output_type": "stream",
     "text": [
      "              precision    recall  f1-score   support\n",
      "\n",
      "           0       0.50      0.17      0.25         6\n",
      "           1       0.38      0.75      0.50         4\n",
      "\n",
      "   micro avg       0.40      0.40      0.40        10\n",
      "   macro avg       0.44      0.46      0.38        10\n",
      "weighted avg       0.45      0.40      0.35        10\n",
      "\n"
     ]
    }
   ],
   "source": [
    "naive_bayes = Pipeline([('vect', CountVectorizer()),\n",
    "                     ('tfidf', TfidfTransformer()),\n",
    "                     ('clf', MultinomialNB()),\n",
    "                     ])\n",
    "fit(naive_bayes)\n"
   ]
  },
  {
   "cell_type": "markdown",
   "metadata": {},
   "source": [
    "# KNN"
   ]
  },
  {
   "cell_type": "code",
   "execution_count": 17,
   "metadata": {},
   "outputs": [],
   "source": [
    "from sklearn.neighbors import KNeighborsClassifier"
   ]
  },
  {
   "cell_type": "code",
   "execution_count": 18,
   "metadata": {},
   "outputs": [
    {
     "name": "stdout",
     "output_type": "stream",
     "text": [
      "              precision    recall  f1-score   support\n",
      "\n",
      "           0       0.60      0.50      0.55         6\n",
      "           1       0.40      0.50      0.44         4\n",
      "\n",
      "   micro avg       0.50      0.50      0.50        10\n",
      "   macro avg       0.50      0.50      0.49        10\n",
      "weighted avg       0.52      0.50      0.51        10\n",
      "\n"
     ]
    }
   ],
   "source": [
    "knn = Pipeline([('vect', CountVectorizer()),\n",
    "                     ('tfidf', TfidfTransformer()),\n",
    "                     ('clf', KNeighborsClassifier()),\n",
    "                     ])\n",
    "fit(knn)"
   ]
  },
  {
   "cell_type": "markdown",
   "metadata": {},
   "source": [
    "# SVM"
   ]
  },
  {
   "cell_type": "code",
   "execution_count": 19,
   "metadata": {},
   "outputs": [],
   "source": [
    "from sklearn.svm import LinearSVC"
   ]
  },
  {
   "cell_type": "code",
   "execution_count": 20,
   "metadata": {},
   "outputs": [
    {
     "name": "stdout",
     "output_type": "stream",
     "text": [
      "              precision    recall  f1-score   support\n",
      "\n",
      "           0       0.67      0.33      0.44         6\n",
      "           1       0.43      0.75      0.55         4\n",
      "\n",
      "   micro avg       0.50      0.50      0.50        10\n",
      "   macro avg       0.55      0.54      0.49        10\n",
      "weighted avg       0.57      0.50      0.48        10\n",
      "\n"
     ]
    }
   ],
   "source": [
    "svm = Pipeline([('vect', CountVectorizer()),\n",
    "                     ('tfidf', TfidfTransformer()),\n",
    "                     ('clf', LinearSVC()),\n",
    "                     ])\n",
    "fit(svm)"
   ]
  },
  {
   "cell_type": "markdown",
   "metadata": {},
   "source": [
    "# Random Forest"
   ]
  },
  {
   "cell_type": "code",
   "execution_count": 21,
   "metadata": {},
   "outputs": [],
   "source": [
    "from sklearn.ensemble import RandomForestClassifier"
   ]
  },
  {
   "cell_type": "code",
   "execution_count": 22,
   "metadata": {},
   "outputs": [
    {
     "name": "stdout",
     "output_type": "stream",
     "text": [
      "              precision    recall  f1-score   support\n",
      "\n",
      "           0       0.80      0.67      0.73         6\n",
      "           1       0.60      0.75      0.67         4\n",
      "\n",
      "   micro avg       0.70      0.70      0.70        10\n",
      "   macro avg       0.70      0.71      0.70        10\n",
      "weighted avg       0.72      0.70      0.70        10\n",
      "\n"
     ]
    }
   ],
   "source": [
    "rand_forest = Pipeline([('vect', CountVectorizer()),\n",
    "                     ('tfidf', TfidfTransformer()),\n",
    "                     ('clf', RandomForestClassifier(n_estimators=100)),\n",
    "                     ])\n",
    "fit(rand_forest)"
   ]
  },
  {
   "cell_type": "markdown",
   "metadata": {},
   "source": [
    "# Deep Learning (Keras)"
   ]
  },
  {
   "cell_type": "code",
   "execution_count": 23,
   "metadata": {},
   "outputs": [],
   "source": [
    "# %conda install keras"
   ]
  },
  {
   "cell_type": "code",
   "execution_count": 24,
   "metadata": {},
   "outputs": [
    {
     "name": "stderr",
     "output_type": "stream",
     "text": [
      "Using TensorFlow backend.\n"
     ]
    }
   ],
   "source": [
    "from keras.layers import  Dropout, Dense\n",
    "from keras.models import Sequential\n",
    "from sklearn.feature_extraction.text import TfidfVectorizer\n",
    "import numpy as np\n",
    "from sklearn import metrics"
   ]
  },
  {
   "cell_type": "code",
   "execution_count": 25,
   "metadata": {},
   "outputs": [],
   "source": [
    "def TFIDF(X_train, X_test,MAX_NB_WORDS=75000):\n",
    "    vectorizer_x = TfidfVectorizer(max_features=MAX_NB_WORDS)\n",
    "    X_train = vectorizer_x.fit_transform(X_train).toarray()\n",
    "    X_test = vectorizer_x.transform(X_test).toarray()\n",
    "    print(\"tf-idf with\",str(np.array(X_train).shape[1]),\"features\")\n",
    "    return (X_train,X_test)"
   ]
  },
  {
   "cell_type": "code",
   "execution_count": 26,
   "metadata": {},
   "outputs": [],
   "source": [
    "def Build_Model_DNN_Text(shape, nClasses, dropout=0.5):\n",
    "    \"\"\"\n",
    "    buildModel_DNN_Tex(shape, nClasses,dropout)\n",
    "    Build Deep neural networks Model for text classification\n",
    "    Shape is input feature space\n",
    "    nClasses is number of classes\n",
    "    \"\"\"\n",
    "    model = Sequential()\n",
    "    node = 512 # number of nodes\n",
    "    nLayers = 4 # number of  hidden layer\n",
    "\n",
    "    model.add(Dense(node,input_dim=shape,activation='relu'))\n",
    "    model.add(Dropout(dropout))\n",
    "    for i in range(0,nLayers):\n",
    "        model.add(Dense(node,input_dim=node,activation='relu'))\n",
    "        model.add(Dropout(dropout))\n",
    "    model.add(Dense(nClasses, activation='softmax'))\n",
    "\n",
    "    model.compile(loss='binary_crossentropy',\n",
    "                  optimizer='adam',\n",
    "                  metrics=['accuracy'])\n",
    "\n",
    "    return model"
   ]
  },
  {
   "cell_type": "code",
   "execution_count": 27,
   "metadata": {},
   "outputs": [
    {
     "name": "stdout",
     "output_type": "stream",
     "text": [
      "tf-idf with 920 features\n",
      "WARNING:tensorflow:From /home/liad/.conda/envs/data4good/lib/python3.7/site-packages/tensorflow/python/framework/op_def_library.py:263: colocate_with (from tensorflow.python.framework.ops) is deprecated and will be removed in a future version.\n",
      "Instructions for updating:\n",
      "Colocations handled automatically by placer.\n",
      "WARNING:tensorflow:From /home/liad/.conda/envs/data4good/lib/python3.7/site-packages/keras/backend/tensorflow_backend.py:3445: calling dropout (from tensorflow.python.ops.nn_ops) with keep_prob is deprecated and will be removed in a future version.\n",
      "Instructions for updating:\n",
      "Please use `rate` instead of `keep_prob`. Rate should be set to `rate = 1 - keep_prob`.\n",
      "WARNING:tensorflow:From /home/liad/.conda/envs/data4good/lib/python3.7/site-packages/tensorflow/python/ops/math_ops.py:3066: to_int32 (from tensorflow.python.ops.math_ops) is deprecated and will be removed in a future version.\n",
      "Instructions for updating:\n",
      "Use tf.cast instead.\n",
      "Train on 40 samples, validate on 10 samples\n",
      "Epoch 1/10\n",
      " - 1s - loss: 7.5726 - acc: 0.5250 - val_loss: 9.5654 - val_acc: 0.4000\n",
      "Epoch 2/10\n",
      " - 0s - loss: 7.5726 - acc: 0.5250 - val_loss: 9.5654 - val_acc: 0.4000\n",
      "Epoch 3/10\n",
      " - 0s - loss: 7.5726 - acc: 0.5250 - val_loss: 9.5654 - val_acc: 0.4000\n",
      "Epoch 4/10\n",
      " - 0s - loss: 7.5726 - acc: 0.5250 - val_loss: 9.5654 - val_acc: 0.4000\n",
      "Epoch 5/10\n",
      " - 0s - loss: 7.5726 - acc: 0.5250 - val_loss: 9.5654 - val_acc: 0.4000\n",
      "Epoch 6/10\n",
      " - 0s - loss: 7.5726 - acc: 0.5250 - val_loss: 9.5654 - val_acc: 0.4000\n",
      "Epoch 7/10\n",
      " - 0s - loss: 7.5726 - acc: 0.5250 - val_loss: 9.5654 - val_acc: 0.4000\n",
      "Epoch 8/10\n",
      " - 0s - loss: 7.5726 - acc: 0.5250 - val_loss: 9.5654 - val_acc: 0.4000\n",
      "Epoch 9/10\n",
      " - 0s - loss: 7.5726 - acc: 0.5250 - val_loss: 9.5654 - val_acc: 0.4000\n",
      "Epoch 10/10\n",
      " - 0s - loss: 7.5726 - acc: 0.5250 - val_loss: 9.5654 - val_acc: 0.4000\n"
     ]
    }
   ],
   "source": [
    "X_train_tfidf,X_test_tfidf = TFIDF(X_train,X_test)\n",
    "model_DNN = Build_Model_DNN_Text(X_train_tfidf.shape[1], 1)\n",
    "\n",
    "model_DNN.fit(X_train_tfidf, list(y_train),\n",
    "                              validation_data=(X_test_tfidf, list(y_test)),\n",
    "                              epochs=10,\n",
    "                              batch_size=128,\n",
    "                              verbose=2)\n",
    "\n",
    "predicted = model_DNN.predict(X_test_tfidf)"
   ]
  },
  {
   "cell_type": "code",
   "execution_count": 28,
   "metadata": {},
   "outputs": [
    {
     "name": "stdout",
     "output_type": "stream",
     "text": [
      "              precision    recall  f1-score   support\n",
      "\n",
      "           0       0.00      0.00      0.00         6\n",
      "           1       0.40      1.00      0.57         4\n",
      "\n",
      "   micro avg       0.40      0.40      0.40        10\n",
      "   macro avg       0.20      0.50      0.29        10\n",
      "weighted avg       0.16      0.40      0.23        10\n",
      "\n"
     ]
    },
    {
     "name": "stderr",
     "output_type": "stream",
     "text": [
      "/home/liad/.conda/envs/data4good/lib/python3.7/site-packages/sklearn/metrics/classification.py:1143: UndefinedMetricWarning: Precision and F-score are ill-defined and being set to 0.0 in labels with no predicted samples.\n",
      "  'precision', 'predicted', average, warn_for)\n"
     ]
    }
   ],
   "source": [
    "print(metrics.classification_report(np.array(y_test), predicted))"
   ]
  },
  {
   "cell_type": "markdown",
   "metadata": {},
   "source": [
    "## LSTM using FastText Vectors"
   ]
  },
  {
   "cell_type": "code",
   "execution_count": 29,
   "metadata": {},
   "outputs": [],
   "source": [
    "from keras.layers import Dropout, Dense, GRU, Embedding\n",
    "from keras.models import Sequential\n",
    "from sklearn.feature_extraction.text import TfidfVectorizer\n",
    "import numpy as np\n",
    "from sklearn import metrics\n",
    "from keras.preprocessing.text import Tokenizer\n",
    "from keras.preprocessing.sequence import pad_sequences"
   ]
  },
  {
   "cell_type": "code",
   "execution_count": 30,
   "metadata": {},
   "outputs": [],
   "source": [
    "from pyfasttext import FastText"
   ]
  },
  {
   "cell_type": "code",
   "execution_count": 31,
   "metadata": {},
   "outputs": [],
   "source": [
    "ft = FastText()"
   ]
  },
  {
   "cell_type": "markdown",
   "metadata": {},
   "source": [
    "Word vectors can be downloaded here: https://fasttext.cc/docs/en/crawl-vectors.html"
   ]
  },
  {
   "cell_type": "code",
   "execution_count": 32,
   "metadata": {},
   "outputs": [],
   "source": [
    "ft.load_model('../models/cc.de.300.bin')"
   ]
  },
  {
   "cell_type": "code",
   "execution_count": 36,
   "metadata": {},
   "outputs": [],
   "source": [
    "def loadData_Tokenizer(X_train, X_test,MAX_NB_WORDS=75000,MAX_SEQUENCE_LENGTH=500):\n",
    "    np.random.seed(7)\n",
    "    text = np.concatenate((X_train, X_test), axis=0)\n",
    "    text = np.array(text)\n",
    "    tokenizer = Tokenizer(num_words=MAX_NB_WORDS)\n",
    "    tokenizer.fit_on_texts(text)\n",
    "    sequences = tokenizer.texts_to_sequences(text)\n",
    "    word_index = tokenizer.word_index\n",
    "    text = pad_sequences(sequences, maxlen=MAX_SEQUENCE_LENGTH)\n",
    "    print('Found %s unique tokens.' % len(word_index))\n",
    "    indices = np.arange(text.shape[0])\n",
    "    # np.random.shuffle(indices)\n",
    "    text = text[indices]\n",
    "    print(text.shape)\n",
    "    X_train = text[0:len(X_train), ]\n",
    "    X_test = text[len(X_train):, ]\n",
    "    embeddings_index = {}\n",
    "#     f = open(\"glove.6B.50d.txt\", encoding=\"utf8\")\n",
    "#     for line in f:\n",
    "\n",
    "#         values = line.split()\n",
    "#         word = values[0]\n",
    "#         try:\n",
    "#             coefs = np.asarray(values[1:], dtype='float32')\n",
    "#         except:\n",
    "#             pass\n",
    "#         embeddings_index[word] = coefs\n",
    "#     f.close()\n",
    "    print('Total %s word vectors.' % len(embeddings_index))\n",
    "    return (X_train, X_test, word_index,embeddings_index)"
   ]
  },
  {
   "cell_type": "code",
   "execution_count": 34,
   "metadata": {},
   "outputs": [],
   "source": [
    "def Build_Model_RNN_Text(word_index, embeddings_index, nclasses,  MAX_SEQUENCE_LENGTH=500, EMBEDDING_DIM=50, dropout=0.5):\n",
    "    \"\"\"\n",
    "    def buildModel_RNN(word_index, embeddings_index, nclasses,  MAX_SEQUENCE_LENGTH=500, EMBEDDING_DIM=50, dropout=0.5):\n",
    "    word_index in word index ,\n",
    "    embeddings_index is embeddings index, look at data_helper.py\n",
    "    nClasses is number of classes,\n",
    "    MAX_SEQUENCE_LENGTH is maximum lenght of text sequences\n",
    "    \"\"\"\n",
    "\n",
    "    model = Sequential()\n",
    "    hidden_layer = 3\n",
    "    gru_node = 32\n",
    "\n",
    "    embedding_matrix = np.random.random((len(word_index) + 1, EMBEDDING_DIM))\n",
    "    for word, i in word_index.items():\n",
    "        embedding_vector = embeddings_index.get(word)\n",
    "        if embedding_vector is not None:\n",
    "            # words not found in embedding index will be all-zeros.\n",
    "            if len(embedding_matrix[i]) != len(embedding_vector):\n",
    "                print(\"could not broadcast input array from shape\", str(len(embedding_matrix[i])),\n",
    "                      \"into shape\", str(len(embedding_vector)), \" Please make sure your\"\n",
    "                                                                \" EMBEDDING_DIM is equal to embedding_vector file ,GloVe,\")\n",
    "                exit(1)\n",
    "            embedding_matrix[i] = embedding_vector\n",
    "    model.add(Embedding(len(word_index) + 1,\n",
    "                                EMBEDDING_DIM,\n",
    "                                weights=[embedding_matrix],\n",
    "                                input_length=MAX_SEQUENCE_LENGTH,\n",
    "                                trainable=True))\n",
    "\n",
    "\n",
    "    print(gru_node)\n",
    "    for i in range(0,hidden_layer):\n",
    "        model.add(GRU(gru_node,return_sequences=True, recurrent_dropout=0.2))\n",
    "        model.add(Dropout(dropout))\n",
    "    model.add(GRU(gru_node, recurrent_dropout=0.2))\n",
    "    model.add(Dropout(dropout))\n",
    "    model.add(Dense(256, activation='relu'))\n",
    "    model.add(Dense(nclasses, activation='softmax'))\n",
    "\n",
    "\n",
    "    model.compile(loss='sparse_categorical_crossentropy',\n",
    "                      optimizer='adam',\n",
    "                      metrics=['accuracy'])\n",
    "    return model"
   ]
  }
 ],
 "metadata": {
  "kernelspec": {
   "display_name": "Python 3",
   "language": "python",
   "name": "python3"
  },
  "language_info": {
   "codemirror_mode": {
    "name": "ipython",
    "version": 3
   },
   "file_extension": ".py",
   "mimetype": "text/x-python",
   "name": "python",
   "nbconvert_exporter": "python",
   "pygments_lexer": "ipython3",
   "version": "3.7.3"
  }
 },
 "nbformat": 4,
 "nbformat_minor": 2
}
